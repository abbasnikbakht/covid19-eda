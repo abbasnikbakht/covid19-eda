{
 "cells": [
  {
   "cell_type": "markdown",
   "metadata": {},
   "source": [
    "# Data\n",
    "\n",
    "### Virus data - daily covid-19 counts by state\n",
    "Data is downloaded from [Kaggle](https://www.kaggle.com/sudalairajkumar/covid19-in-usa) via API and updated daily with counts from the previous day. Includes metrics like the number of positive, negative, and total cases, as well as number of hospitalized and deaths.\n",
    "\n",
    "#### Kaggle API \n",
    "1. Set up a key by [following these instructions](https://adityashrm21.github.io/Setting-Up-Kaggle/)\n",
    "2. Store the key file in `~/.kaggle/kaggle.json`\n",
    "\n",
    "### Census data\n",
    "Census info is from [American Community Survey 5-Year Data (2009-2018)](https://www.census.gov/data/developers/data-sets/acs-5year.html). \n",
    "\n",
    "The \"Detailed\" datasets are used from 2018 survey results. Only population count estimate variables (variables ending in \"E\") are used.\n",
    "\n",
    "Included features by state:\n",
    "* median age by gender \n",
    "* race \n",
    "* commute modes\n",
    "* health insurance\n",
    "\n",
    "For simplicity, this notebook uses the [census](https://pypi.org/project/CensusData/) python package to extract Census data instead of pulling data from the Census website directly. But that package still requires that you set up an API key with the Census.\n",
    "\n",
    "#### Census API\n",
    "1. Get a key from https://api.census.gov/data/key_signup.html and save it in a json file somewhere on your computer. The content of your `census_gov_api_key.json` file should look something like \n",
    "\n",
    "```\n",
    "{\"key\": \"your-api-key-goes-here\"}\n",
    "```\n",
    "\n",
    "2. Modify the `CENSUS_API_KEY_PATH` variable where it is set below to save to the location you saved your census key to.\n",
    "\n",
    "\n",
    "Read [this documentation](https://www.census.gov/mso/www/training/pdf/acs_census_api.pdf) if you're interested in learning more about the Census API."
   ]
  },
  {
   "cell_type": "markdown",
   "metadata": {},
   "source": [
    "# Metrics\n",
    "Daily metrics for each state are adjusted by the Census-estimated population in the state and the number of days that have elapsed since the state's first reported positive case.\n",
    "\n",
    "For example, for the number of positive cases in a particular state we have\n",
    "\n",
    "$ \\textrm{Rate of Positive Cases per 100,000}= \\frac{\\sum{\\textrm{positive cases}}}{\\textrm{population estimate (Census)}} \\times 100000 $\n",
    "\n",
    "and\n",
    "\n",
    "$ \\textrm{Adjusted Rate of Positive Cases per 100,000} \n",
    "= \\textrm{Positive rate per 100,000}\\times\\frac{\\textrm{Days since first positive case}}{1+\\textrm{Days since first positive case}} \n",
    "$.\n",
    "\n",
    "The final adjusted rate column uses an adjustment multiplier that gives more confidence to the rate the longer data has been reported in the state. This makes comparisons between states at a given point in time a bit easier."
   ]
  },
  {
   "cell_type": "code",
   "execution_count": 187,
   "metadata": {},
   "outputs": [],
   "source": [
    "import json\n",
    "import requests\n",
    "\n",
    "import pandas as pd\n",
    "from pandasql import sqldf\n",
    "import kaggle\n",
    "import us"
   ]
  },
  {
   "cell_type": "code",
   "execution_count": 199,
   "metadata": {},
   "outputs": [],
   "source": [
    "# PARAMETERS THAT YOU MUST CHANGE\n",
    "CENSUS_API_KEY_PATH = '../../secrets/census_gov_api_key.json' # modify this to the location of your census key"
   ]
  },
  {
   "cell_type": "code",
   "execution_count": 188,
   "metadata": {},
   "outputs": [],
   "source": [
    "def get_virus_data(needing_refresh=True):\n",
    "    \"\"\"Pulls the latest data from Kaggle and returns a pandas DataFrame\n",
    "    \n",
    "    Instructions on how to set up a Kaggle API key:\n",
    "    https://adityashrm21.github.io/Setting-Up-Kaggle/\n",
    "    \"\"\"\n",
    "    if needing_refresh:\n",
    "        kaggle.api.dataset_download_files(\n",
    "            'sudalairajkumar/covid19-in-usa', \n",
    "            path='raw', \n",
    "            force=True, \n",
    "            quiet=True, \n",
    "            unzip=True)\n",
    "    data = pd.read_csv('raw/us_states_covid19_daily.csv')\n",
    "    data['obs_dt'] = pd.to_datetime(data.date, format='%Y%m%d')\n",
    "    return data"
   ]
  },
  {
   "cell_type": "code",
   "execution_count": 189,
   "metadata": {},
   "outputs": [],
   "source": [
    "def get_census_data(api_key_file=CENSUS_API_KEY_PATH):\n",
    "    \"\"\"Pulls 2018 US Census ACS5 data\n",
    "    \n",
    "    Extracts select variables. Full list of variables \n",
    "    is at https://api.census.gov/data/2018/acs/acs5/variables.html\n",
    "    \"\"\"\n",
    "    # pre-set list of census variables to extract\n",
    "    variable_names = {\n",
    "      'B01003_001E': 'population_total',\n",
    "      'B01002_002E': 'median_age_male',\n",
    "      'B01002_003E': 'median_age_female',\n",
    "      'B02001_002E': 'race_white_alone',\n",
    "      'B02001_003E': 'race_afr_alone',\n",
    "      'B02001_005E': 'race_asian_alone',\n",
    "      'B03003_002E': 'hisp_not_hisp',\n",
    "      'B08301_003E': 'transport_drive_alone',\n",
    "      'B08301_010E': 'transport_public',\n",
    "      'B08301_019E': 'transport_walk',\n",
    "      'B992701_003E': 'healthins_none'\n",
    "    }\n",
    "    # census api key \n",
    "    with open(api_key_file) as f:\n",
    "        census_api = json.load(f)\n",
    "    census_key = census_api['key']\n",
    "    \n",
    "    # object from census python package\n",
    "    census = Census(census_key)\n",
    "    variables = tuple(variable_names.keys())\n",
    "    # state* pulls state-level data for all states\n",
    "    raw = census.acs5.get((variables), geo={'for': 'state:*'}, year=2018)\n",
    "    \n",
    "    # data cleanup\n",
    "    data = pd.DataFrame(raw)\n",
    "    data.rename(columns=variable_names, inplace=True)\n",
    "    data['state_cd'] = [us.states.lookup(fips).abbr for fips in data['state']]\n",
    "    data['state_name'] = [us.states.lookup(fips).name for fips in data['state']]\n",
    "    return data"
   ]
  },
  {
   "cell_type": "code",
   "execution_count": 190,
   "metadata": {},
   "outputs": [],
   "source": [
    "census_df = get_census_data()"
   ]
  },
  {
   "cell_type": "code",
   "execution_count": 191,
   "metadata": {},
   "outputs": [],
   "source": [
    "virus_df = get_virus_data()"
   ]
  },
  {
   "cell_type": "code",
   "execution_count": 192,
   "metadata": {},
   "outputs": [],
   "source": [
    "sql=\"\"\"\n",
    "  select \n",
    "    state,\n",
    "    min(obs_dt)  as obs_dt\n",
    "  from virus_df \n",
    "  where positive is not null\n",
    "  group by 1\n",
    "\"\"\"\n",
    "firstcase = sqldf(sql, globals())"
   ]
  },
  {
   "cell_type": "code",
   "execution_count": 193,
   "metadata": {},
   "outputs": [],
   "source": [
    "sql = \"\"\"\n",
    "    select \n",
    "        c.state_name,\n",
    "        s.state,\n",
    "        strftime('%Y-%m-%d', s.obs_dt) as obs_dt,\n",
    "        strftime('%Y-%m-%d', f.obs_dt) as first_obs_dt,\n",
    "        coalesce(s.positive,0) as positive,\n",
    "        coalesce(s.negative,0) as negative,\n",
    "        coalesce(s.pending,0) as pending,\n",
    "        coalesce(s.hospitalized,0) as hospitalized,\n",
    "        coalesce(s.death,0) as death,\n",
    "        coalesce(s.total,0) as total,\n",
    "        c.population_total as population,\n",
    "        c.median_age_male, \n",
    "        c.median_age_female,\n",
    "        c.population_total, \n",
    "        c.race_white_alone, \n",
    "        c.race_afr_alone,\n",
    "        c.race_asian_alone, \n",
    "        c.hisp_not_hisp, \n",
    "        c.transport_drive_alone, \n",
    "        c.transport_public, \n",
    "        c.transport_walk,\n",
    "        c.healthins_none\n",
    "    from virus_df as s\n",
    "    inner join census_df as c\n",
    "        on s.state = c.state_cd\n",
    "    left join firstcase as f \n",
    "        on s.state = f.state\n",
    "\"\"\"\n",
    "data = sqldf(sql, globals())"
   ]
  },
  {
   "cell_type": "code",
   "execution_count": 194,
   "metadata": {},
   "outputs": [],
   "source": [
    "data['obs_dt'] = pd.to_datetime(data.obs_dt, format='%Y-%m-%d')\n",
    "data['first_obs_dt'] = pd.to_datetime(data.first_obs_dt, format='%Y-%m-%d')"
   ]
  },
  {
   "cell_type": "code",
   "execution_count": 195,
   "metadata": {},
   "outputs": [],
   "source": [
    "data['time_elapsed_since_firstpos'] = data['obs_dt'] - data['first_obs_dt']\n",
    "data['days_elapsed_since_firstpos'] = data['time_elapsed_since_firstpos'].astype('timedelta64[D]').astype(int)\n",
    "data['pos_per100k'] = 100000.0 * (data['positive'] / data['population'])\n",
    "data['death_per100k'] =  100000.0 * (data['death'] / data['population'])"
   ]
  },
  {
   "cell_type": "code",
   "execution_count": 196,
   "metadata": {},
   "outputs": [],
   "source": [
    "data['adj_multiplier'] = (data.days_elapsed_since_firstpos / (1.0 + data.days_elapsed_since_firstpos))\n",
    "data['adj_pos_per100k'] = data.pos_per100k * data.adj_multiplier\n",
    "data['adj_death_per100k'] = data.death_per100k * data.adj_multiplier"
   ]
  },
  {
   "cell_type": "code",
   "execution_count": 197,
   "metadata": {},
   "outputs": [],
   "source": [
    "data.to_csv('data/results.csv')"
   ]
  },
  {
   "cell_type": "code",
   "execution_count": null,
   "metadata": {},
   "outputs": [],
   "source": []
  }
 ],
 "metadata": {
  "kernelspec": {
   "display_name": "Python 3",
   "language": "python",
   "name": "python3"
  },
  "language_info": {
   "codemirror_mode": {
    "name": "ipython",
    "version": 3
   },
   "file_extension": ".py",
   "mimetype": "text/x-python",
   "name": "python",
   "nbconvert_exporter": "python",
   "pygments_lexer": "ipython3",
   "version": "3.6.4"
  }
 },
 "nbformat": 4,
 "nbformat_minor": 2
}
